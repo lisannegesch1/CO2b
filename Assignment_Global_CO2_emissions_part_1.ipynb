{
  "nbformat": 4,
  "nbformat_minor": 0,
  "metadata": {
    "colab": {
      "name": "Assignment - Global CO2 emissions part 1",
      "provenance": [],
      "authorship_tag": "ABX9TyMN/96/G9sOzK4JhBMJoJp/",
      "include_colab_link": true
    },
    "kernelspec": {
      "name": "python3",
      "display_name": "Python 3"
    },
    "language_info": {
      "name": "python"
    }
  },
  "cells": [
    {
      "cell_type": "markdown",
      "metadata": {
        "id": "view-in-github",
        "colab_type": "text"
      },
      "source": [
        "<a href=\"https://colab.research.google.com/github/lisannegesch1/files/blob/main/Assignment_Global_CO2_emissions_part_1.ipynb\" target=\"_parent\"><img src=\"https://colab.research.google.com/assets/colab-badge.svg\" alt=\"Open In Colab\"/></a>"
      ]
    },
    {
      "cell_type": "code",
      "execution_count": null,
      "metadata": {
        "id": "6FMO1jwkS_3u"
      },
      "outputs": [],
      "source": [
        "import pandas as pd\n",
        "\n",
        "tables = pd.read_html(\"https://en.wikipedia.org/wiki/List_of_countries_by_carbon_dioxide_emissions\")\n",
        "countries = tables[1]\n",
        "countries.columns = ['country', '1990', '2005', '2017', '2017%', 'change%', 'land', 'capita', 'total_incl_LUCF', 'total_excl_LUCF']\n",
        "countries_1 = countries[countries['country'].str.contains(\"World\")==False]\n",
        "countries_2 = countries_1[countries_1['country'].str.contains(\"European\")==False]\n",
        "\n",
        "sorted_list = countries_2.sort_values(by=['2017'], ascending = False)\n",
        "bigger_countries = sorted_list.iloc[:5, [0,1,2,3]]\n",
        "bigger_countries"
      ]
    },
    {
      "cell_type": "code",
      "source": [
        "import matplotlib.pyplot as plt\n",
        "import numpy as np\n",
        "\n",
        "years = bigger_countries.columns[1:]\n",
        "for i, row in bigger_countries.iterrows():\n",
        "  plt.plot(years, row[1:], label=row[0])\n",
        "\n",
        "plt.title(\"co2 emissions\")\n",
        "plt.xlabel(\"years\")\n",
        "plt.ylabel(\"co2 emissions\")\n",
        "plt.legend(loc='center left', bbox_to_anchor=(1, 0.5))\n",
        "plt.grid()\n",
        "plt.show()\n",
        "\n"
      ],
      "metadata": {
        "id": "M9w_SVZ1bjd2"
      },
      "execution_count": null,
      "outputs": []
    },
    {
      "cell_type": "markdown",
      "source": [
        "Part 2"
      ],
      "metadata": {
        "id": "45YGyPHhpGb2"
      }
    },
    {
      "cell_type": "code",
      "source": [
        "import pandas as pd\n",
        "\n",
        "tables = pd.read_html(\"https://en.wikipedia.org/wiki/List_of_countries_by_carbon_dioxide_emissions\")\n",
        "countries = tables[1]\n",
        "countries.columns = ['country', '1990', '2005', '2017', '2017%', 'change%', 'land', 'capita', 'total_incl_LUCF', 'total_excl_LUCF']\n",
        "countries_1 = countries[countries['country'].str.contains(\"World\")==False]\n",
        "countries_2 = countries_1[countries_1['country'].str.contains(\"European\")==False]\n",
        "\n",
        "\n",
        "countries_2['rel_1990'] = 100\n",
        "countries_2['rel_2005'] = ((countries_2['2005'] - countries_2['1990']) / countries_2['1990']) * 100\n",
        "countries_2['rel_2017'] = ((countries_2['2017'] - countries_2['1990']) / countries_2['1990']) * 100\n",
        "\n",
        "countries_2 = countries_2.loc[:209, ['country', 'rel_1990', 'rel_2005', 'rel_2017']]\n",
        "countries_2_sorted = countries_2.sort_values(by='rel_2017', ascending=False)\n",
        "countries_2_top_3 = countries_2_sorted.head(3)\n",
        "countries_2_low_3 = countries_2_sorted.tail(3)\n",
        "\n",
        "countries_2_top_low = countries_2_top_3.append(countries_2_low_3)\n"
      ],
      "metadata": {
        "id": "BcRhWf2opHoK"
      },
      "execution_count": null,
      "outputs": []
    },
    {
      "cell_type": "code",
      "source": [
        "import matplotlib.pyplot as plt\n",
        "import numpy as np\n",
        "\n",
        "years = countries_2_top_low.columns[1:]\n",
        "for i, row in countries_2_top_low.iterrows():\n",
        "  plt.plot(years, row[1:], label=row[0])\n",
        "\n",
        "plt.title(\"co2 emissions relative\")\n",
        "plt.xlabel(\"years\")\n",
        "plt.ylabel(\"co2 emissions relative\")\n",
        "plt.legend(loc='center left', bbox_to_anchor=(1, 0.5))\n",
        "plt.grid()\n",
        "plt.show()\n",
        "\n"
      ],
      "metadata": {
        "id": "hdejGlDVpJ8V"
      },
      "execution_count": null,
      "outputs": []
    }
  ]
}